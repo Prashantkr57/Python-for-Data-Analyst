{
  "nbformat": 4,
  "nbformat_minor": 0,
  "metadata": {
    "colab": {
      "provenance": [],
      "authorship_tag": "ABX9TyNse4sh/evxF0A2lpeP1Tg2",
      "include_colab_link": true
    },
    "kernelspec": {
      "name": "python3",
      "display_name": "Python 3"
    },
    "language_info": {
      "name": "python"
    }
  },
  "cells": [
    {
      "cell_type": "markdown",
      "metadata": {
        "id": "view-in-github",
        "colab_type": "text"
      },
      "source": [
        "<a href=\"https://colab.research.google.com/github/Prashantkr57/Python-for-Data-Analyst/blob/main/Python_for_Data_Analyst.ipynb\" target=\"_parent\"><img src=\"https://colab.research.google.com/assets/colab-badge.svg\" alt=\"Open In Colab\"/></a>"
      ]
    },
    {
      "cell_type": "markdown",
      "source": [
        "**Getting Started with Python**"
      ],
      "metadata": {
        "id": "gt41ZYGdsZog"
      }
    },
    {
      "cell_type": "code",
      "execution_count": 2,
      "metadata": {
        "colab": {
          "base_uri": "https://localhost:8080/"
        },
        "id": "8_5a2bWTsLdL",
        "outputId": "6fa2cb1e-4d39-48e4-bf72-2a6b7039eb77"
      },
      "outputs": [
        {
          "output_type": "stream",
          "name": "stdout",
          "text": [
            "Hello World\n"
          ]
        }
      ],
      "source": [
        "# My first program\n",
        "\n",
        "print(\"Hello World\")"
      ]
    },
    {
      "cell_type": "markdown",
      "source": [
        "**Variables and data types in Python.**\n",
        "Here are some examples of declaring and using variables with different data types in Python:"
      ],
      "metadata": {
        "id": "Osvp_Cdx4l0h"
      }
    },
    {
      "cell_type": "code",
      "source": [
        "# Integer variable\n",
        "x = 10\n",
        "\n",
        "# Floating-point variable with 2 decimal places\n",
        "y = 3.14\n",
        "\n",
        "# String variable\n",
        "name = \"Govind\"\n",
        "name_2 = 'Prashant'\n",
        "\n",
        "# Boolean variable \"True\" or \"False\"\n",
        "is_active = True\n",
        "\n",
        "# List variable\n",
        "fruits = [\"apple\", \"banana\", \"orange\"]\n",
        "students = [\"gaurav\", 12, \"India\"]\n",
        "\n",
        "# Dictionary variable\n",
        "person = {\"name\": \"Govind\", \"age\": 32}\n",
        "\n",
        "# Set variable have non repeating values\n",
        "my_set = {1, 2, 3}\n",
        "\n",
        "# Tuple variable immutable list\n",
        "my_tuple = (1, 2, 3)\n"
      ],
      "metadata": {
        "id": "irbv-AD94v0w"
      },
      "execution_count": 3,
      "outputs": []
    }
  ]
}