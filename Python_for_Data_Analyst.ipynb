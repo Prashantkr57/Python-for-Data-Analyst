{
  "nbformat": 4,
  "nbformat_minor": 0,
  "metadata": {
    "colab": {
      "provenance": [],
      "authorship_tag": "ABX9TyP/DuVWMShP3xN6DYtSImVz",
      "include_colab_link": true
    },
    "kernelspec": {
      "name": "python3",
      "display_name": "Python 3"
    },
    "language_info": {
      "name": "python"
    }
  },
  "cells": [
    {
      "cell_type": "markdown",
      "metadata": {
        "id": "view-in-github",
        "colab_type": "text"
      },
      "source": [
        "<a href=\"https://colab.research.google.com/github/Prashantkr57/Python-for-Data-Analyst/blob/main/Python_for_Data_Analyst.ipynb\" target=\"_parent\"><img src=\"https://colab.research.google.com/assets/colab-badge.svg\" alt=\"Open In Colab\"/></a>"
      ]
    },
    {
      "cell_type": "markdown",
      "source": [
        "**Getting Started with Python**"
      ],
      "metadata": {
        "id": "gt41ZYGdsZog"
      }
    },
    {
      "cell_type": "code",
      "execution_count": null,
      "metadata": {
        "colab": {
          "base_uri": "https://localhost:8080/"
        },
        "id": "8_5a2bWTsLdL",
        "outputId": "6fa2cb1e-4d39-48e4-bf72-2a6b7039eb77"
      },
      "outputs": [
        {
          "output_type": "stream",
          "name": "stdout",
          "text": [
            "Hello World\n"
          ]
        }
      ],
      "source": [
        "# My first program\n",
        "\n",
        "print(\"Hello World\")"
      ]
    },
    {
      "cell_type": "markdown",
      "source": [
        "**Variables and data types in Python.**\n",
        "Here are some examples of declaring and using variables with different data types in Python:"
      ],
      "metadata": {
        "id": "Osvp_Cdx4l0h"
      }
    },
    {
      "cell_type": "code",
      "source": [
        "# Integer variable\n",
        "x = 10\n",
        "\n",
        "# Floating-point variable with 2 decimal places\n",
        "y = 3.14\n",
        "\n",
        "# String variable\n",
        "name = \"Govind\"\n",
        "name_2 = 'Prashant'\n",
        "\n",
        "# Boolean variable \"True\" or \"False\"\n",
        "is_active = True\n",
        "\n",
        "# List variable\n",
        "fruits = [\"apple\", \"banana\", \"orange\"]\n",
        "students = [\"gaurav\", 12, \"India\"]\n",
        "\n",
        "# Dictionary variable\n",
        "person = {\"name\": \"Govind\", \"age\": 32}\n",
        "\n",
        "# Set variable have non repeating values\n",
        "my_set = {1, 2, 3}\n",
        "\n",
        "# Tuple variable immutable list\n",
        "my_tuple = (1, 2, 3)"
      ],
      "metadata": {
        "id": "irbv-AD94v0w"
      },
      "execution_count": null,
      "outputs": []
    },
    {
      "cell_type": "markdown",
      "source": [
        "**Below are some examples of basic arithmetic and mathematical operations in Python:**"
      ],
      "metadata": {
        "id": "LcM0s1gR_INZ"
      }
    },
    {
      "cell_type": "code",
      "source": [
        "# Addition (+): This operator is used to add two or more numbers together.\n",
        "a = 5\n",
        "b = 3\n",
        "c = a + b\n",
        "print(c)"
      ],
      "metadata": {
        "colab": {
          "base_uri": "https://localhost:8080/"
        },
        "id": "zSrO7u2Q_QE0",
        "outputId": "91faf077-038f-4193-c03b-07dd6376e7b3"
      },
      "execution_count": 1,
      "outputs": [
        {
          "output_type": "stream",
          "name": "stdout",
          "text": [
            "8\n"
          ]
        }
      ]
    },
    {
      "cell_type": "code",
      "source": [
        "# Subtraction (-): This operator is used to subtract one number from another.\n",
        "a = 5\n",
        "b = 3\n",
        "c = a - b\n",
        "print(c) "
      ],
      "metadata": {
        "colab": {
          "base_uri": "https://localhost:8080/"
        },
        "id": "mFZginwx_dQT",
        "outputId": "0bed122a-b59a-431d-fa2d-5242f60ca890"
      },
      "execution_count": 2,
      "outputs": [
        {
          "output_type": "stream",
          "name": "stdout",
          "text": [
            "2\n"
          ]
        }
      ]
    },
    {
      "cell_type": "code",
      "source": [
        "# Multiplication (*): This operator is used to multiply two or more numbers together.\n",
        "a = 5\n",
        "b = 3\n",
        "c = a * b\n",
        "print(c) "
      ],
      "metadata": {
        "colab": {
          "base_uri": "https://localhost:8080/"
        },
        "id": "2IDQjEMK_q3z",
        "outputId": "93f5e4b9-796f-4f25-fc16-a89c29720fe6"
      },
      "execution_count": 3,
      "outputs": [
        {
          "output_type": "stream",
          "name": "stdout",
          "text": [
            "15\n"
          ]
        }
      ]
    },
    {
      "cell_type": "code",
      "source": [
        "# Division (/): This operator is used to divide one number by another.\n",
        "a = 5\n",
        "b = 3\n",
        "c = a / b\n",
        "print(c)  "
      ],
      "metadata": {
        "colab": {
          "base_uri": "https://localhost:8080/"
        },
        "id": "Pw0fsixN_xmr",
        "outputId": "39755094-bfa1-4c81-e976-b686b4e9406a"
      },
      "execution_count": 4,
      "outputs": [
        {
          "output_type": "stream",
          "name": "stdout",
          "text": [
            "1.6666666666666667\n"
          ]
        }
      ]
    },
    {
      "cell_type": "code",
      "source": [
        "# Floor Division (//): This operator is used to divide one number by another and returns the floor of the result.\n",
        "a = 5\n",
        "b = 3\n",
        "c = a // b\n",
        "print(c)  "
      ],
      "metadata": {
        "colab": {
          "base_uri": "https://localhost:8080/"
        },
        "id": "gOVbS0dD_7u3",
        "outputId": "55b4ea02-530f-4f4e-b559-2df12a8f820c"
      },
      "execution_count": 5,
      "outputs": [
        {
          "output_type": "stream",
          "name": "stdout",
          "text": [
            "1\n"
          ]
        }
      ]
    },
    {
      "cell_type": "code",
      "source": [
        "# Modulus (%): This operator is used to get the remainder of a division operation.\n",
        "a = 5\n",
        "b = 3\n",
        "c = a % b\n",
        "print(c) "
      ],
      "metadata": {
        "colab": {
          "base_uri": "https://localhost:8080/"
        },
        "id": "f_KhpH9qAD-9",
        "outputId": "03494c5b-0a89-40b0-bb71-0ba1a56cd6b2"
      },
      "execution_count": 6,
      "outputs": [
        {
          "output_type": "stream",
          "name": "stdout",
          "text": [
            "2\n"
          ]
        }
      ]
    },
    {
      "cell_type": "code",
      "source": [
        "# Exponentiation (**): This operator is used to raise a number to a power.\n",
        "a = 2\n",
        "b = 3\n",
        "c = a ** b\n",
        "print(c)"
      ],
      "metadata": {
        "colab": {
          "base_uri": "https://localhost:8080/"
        },
        "id": "MNifgOBwAPKJ",
        "outputId": "382cff29-7418-4e54-b6a0-50ac8ec2894a"
      },
      "execution_count": 7,
      "outputs": [
        {
          "output_type": "stream",
          "name": "stdout",
          "text": [
            "8\n"
          ]
        }
      ]
    }
  ]
}