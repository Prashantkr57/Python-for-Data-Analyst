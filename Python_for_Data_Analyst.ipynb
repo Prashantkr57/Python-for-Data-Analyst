{
  "nbformat": 4,
  "nbformat_minor": 0,
  "metadata": {
    "colab": {
      "provenance": [],
      "authorship_tag": "ABX9TyN4MfCh4Fpr/u38yax8HEQD"
    },
    "kernelspec": {
      "name": "python3",
      "display_name": "Python 3"
    },
    "language_info": {
      "name": "python"
    }
  },
  "cells": [
    {
      "cell_type": "markdown",
      "source": [
        "**Getting Started with Python**"
      ],
      "metadata": {
        "id": "gt41ZYGdsZog"
      }
    },
    {
      "cell_type": "code",
      "execution_count": null,
      "metadata": {
        "colab": {
          "base_uri": "https://localhost:8080/"
        },
        "id": "8_5a2bWTsLdL",
        "outputId": "6fa2cb1e-4d39-48e4-bf72-2a6b7039eb77"
      },
      "outputs": [
        {
          "output_type": "stream",
          "name": "stdout",
          "text": [
            "Hello World\n"
          ]
        }
      ],
      "source": [
        "# My first program\n",
        "\n",
        "print(\"Hello World\")"
      ]
    },
    {
      "cell_type": "markdown",
      "source": [
        "**Variables and data types in Python.**\n",
        "Here are some examples of declaring and using variables with different data types in Python:"
      ],
      "metadata": {
        "id": "Osvp_Cdx4l0h"
      }
    },
    {
      "cell_type": "code",
      "source": [
        "# Integer variable\n",
        "x = 10\n",
        "\n",
        "# Floating-point variable with 2 decimal places\n",
        "y = 3.14\n",
        "\n",
        "# String variable\n",
        "name = \"Govind\"\n",
        "name_2 = 'Prashant'\n",
        "\n",
        "# Boolean variable \"True\" or \"False\"\n",
        "is_active = True\n",
        "\n",
        "# List variable\n",
        "fruits = [\"apple\", \"banana\", \"orange\"]\n",
        "students = [\"gaurav\", 12, \"India\"]\n",
        "\n",
        "# Dictionary variable\n",
        "person = {\"name\": \"Govind\", \"age\": 32}\n",
        "\n",
        "# Set variable have non repeating values\n",
        "my_set = {1, 2, 3}\n",
        "\n",
        "# Tuple variable immutable list\n",
        "my_tuple = (1, 2, 3)"
      ],
      "metadata": {
        "id": "irbv-AD94v0w"
      },
      "execution_count": null,
      "outputs": []
    },
    {
      "cell_type": "markdown",
      "source": [
        "**Below are some examples of basic arithmetic and mathematical operations in Python:**"
      ],
      "metadata": {
        "id": "LcM0s1gR_INZ"
      }
    },
    {
      "cell_type": "code",
      "source": [
        "# Addition (+): This operator is used to add two or more numbers together.\n",
        "a = 5\n",
        "b = 3\n",
        "c = a + b\n",
        "print(c)"
      ],
      "metadata": {
        "colab": {
          "base_uri": "https://localhost:8080/"
        },
        "id": "zSrO7u2Q_QE0",
        "outputId": "91faf077-038f-4193-c03b-07dd6376e7b3"
      },
      "execution_count": 1,
      "outputs": [
        {
          "output_type": "stream",
          "name": "stdout",
          "text": [
            "8\n"
          ]
        }
      ]
    },
    {
      "cell_type": "code",
      "source": [
        "# Subtraction (-): This operator is used to subtract one number from another.\n",
        "a = 5\n",
        "b = 3\n",
        "c = a - b\n",
        "print(c) "
      ],
      "metadata": {
        "colab": {
          "base_uri": "https://localhost:8080/"
        },
        "id": "mFZginwx_dQT",
        "outputId": "0bed122a-b59a-431d-fa2d-5242f60ca890"
      },
      "execution_count": 2,
      "outputs": [
        {
          "output_type": "stream",
          "name": "stdout",
          "text": [
            "2\n"
          ]
        }
      ]
    },
    {
      "cell_type": "code",
      "source": [
        "# Multiplication (*): This operator is used to multiply two or more numbers together.\n",
        "a = 5\n",
        "b = 3\n",
        "c = a * b\n",
        "print(c) "
      ],
      "metadata": {
        "colab": {
          "base_uri": "https://localhost:8080/"
        },
        "id": "2IDQjEMK_q3z",
        "outputId": "93f5e4b9-796f-4f25-fc16-a89c29720fe6"
      },
      "execution_count": 3,
      "outputs": [
        {
          "output_type": "stream",
          "name": "stdout",
          "text": [
            "15\n"
          ]
        }
      ]
    },
    {
      "cell_type": "code",
      "source": [
        "# Division (/): This operator is used to divide one number by another.\n",
        "a = 5\n",
        "b = 3\n",
        "c = a / b\n",
        "print(c)  "
      ],
      "metadata": {
        "colab": {
          "base_uri": "https://localhost:8080/"
        },
        "id": "Pw0fsixN_xmr",
        "outputId": "39755094-bfa1-4c81-e976-b686b4e9406a"
      },
      "execution_count": 4,
      "outputs": [
        {
          "output_type": "stream",
          "name": "stdout",
          "text": [
            "1.6666666666666667\n"
          ]
        }
      ]
    },
    {
      "cell_type": "code",
      "source": [
        "# Floor Division (//): This operator is used to divide one number by another and returns the floor of the result.\n",
        "a = 5\n",
        "b = 3\n",
        "c = a // b\n",
        "print(c)  "
      ],
      "metadata": {
        "colab": {
          "base_uri": "https://localhost:8080/"
        },
        "id": "gOVbS0dD_7u3",
        "outputId": "55b4ea02-530f-4f4e-b559-2df12a8f820c"
      },
      "execution_count": 5,
      "outputs": [
        {
          "output_type": "stream",
          "name": "stdout",
          "text": [
            "1\n"
          ]
        }
      ]
    },
    {
      "cell_type": "code",
      "source": [
        "# Modulus (%): This operator is used to get the remainder of a division operation.\n",
        "a = 5\n",
        "b = 3\n",
        "c = a % b\n",
        "print(c) "
      ],
      "metadata": {
        "colab": {
          "base_uri": "https://localhost:8080/"
        },
        "id": "f_KhpH9qAD-9",
        "outputId": "03494c5b-0a89-40b0-bb71-0ba1a56cd6b2"
      },
      "execution_count": 6,
      "outputs": [
        {
          "output_type": "stream",
          "name": "stdout",
          "text": [
            "2\n"
          ]
        }
      ]
    },
    {
      "cell_type": "code",
      "source": [
        "# Exponentiation (**): This operator is used to raise a number to a power.\n",
        "a = 2\n",
        "b = 3\n",
        "c = a ** b\n",
        "print(c)"
      ],
      "metadata": {
        "colab": {
          "base_uri": "https://localhost:8080/"
        },
        "id": "MNifgOBwAPKJ",
        "outputId": "382cff29-7418-4e54-b6a0-50ac8ec2894a"
      },
      "execution_count": 7,
      "outputs": [
        {
          "output_type": "stream",
          "name": "stdout",
          "text": [
            "8\n"
          ]
        }
      ]
    },
    {
      "cell_type": "markdown",
      "source": [
        "**Python provides built-in data structures: lists, tuples, set and dictionaries, which can be used to store and manipulate data in various ways.**"
      ],
      "metadata": {
        "id": "knrKWrjwBDo2"
      }
    },
    {
      "cell_type": "code",
      "source": [
        "# Lists: A list is a mutable collection of values that are ordered and can be accessed by an index. Lists are created using square brackets [].\n",
        "my_list = [1, 2, 3, 4, 5, 'Apple', 'Ball']\n",
        "print(my_list)"
      ],
      "metadata": {
        "colab": {
          "base_uri": "https://localhost:8080/"
        },
        "id": "P1oKR8S1B-8L",
        "outputId": "5da3b42e-7b17-4d57-8c00-5dabae59e8cb"
      },
      "execution_count": 8,
      "outputs": [
        {
          "output_type": "stream",
          "name": "stdout",
          "text": [
            "[1, 2, 3, 4, 5, 'Apple', 'Ball']\n"
          ]
        }
      ]
    },
    {
      "cell_type": "code",
      "source": [
        "# Accessing elements of a list using indexing and slicing\n",
        "print(my_list[0])   \n",
        "print(my_list[2:4])\n",
        "print(my_list[-1])"
      ],
      "metadata": {
        "colab": {
          "base_uri": "https://localhost:8080/"
        },
        "id": "YxnRlTp2CPhI",
        "outputId": "5c31dffb-cf8e-4d0d-e9fa-f532120391c9"
      },
      "execution_count": 10,
      "outputs": [
        {
          "output_type": "stream",
          "name": "stdout",
          "text": [
            "1\n",
            "[3, 4]\n",
            "Ball\n"
          ]
        }
      ]
    },
    {
      "cell_type": "code",
      "source": [
        "# Tuples: A tuple is an immutable collection of values that are ordered and can be accessed by an index. Tuples are created using parentheses ().\n",
        "my_tuple = (1, 2, 3, 4, 5, 'cat', 'dog')\n",
        "print(my_tuple)"
      ],
      "metadata": {
        "colab": {
          "base_uri": "https://localhost:8080/"
        },
        "id": "RHU2nY1ACppk",
        "outputId": "470aae7c-8ce2-4428-d628-c1f74067b0cf"
      },
      "execution_count": 11,
      "outputs": [
        {
          "output_type": "stream",
          "name": "stdout",
          "text": [
            "(1, 2, 3, 4, 5, 'cat', 'dog')\n"
          ]
        }
      ]
    },
    {
      "cell_type": "code",
      "source": [
        "# Accessing elements of a tuple using index and slicing\n",
        "my_tuple = (1, 2, 3, 4, 5)\n",
        "print(my_tuple[0])   \n",
        "print(my_tuple[2:4]) \n",
        "print(my_tuple[-1])"
      ],
      "metadata": {
        "colab": {
          "base_uri": "https://localhost:8080/"
        },
        "id": "ldNVr243C17n",
        "outputId": "e0539792-4b43-4527-8db4-50bbb3ea9271"
      },
      "execution_count": 15,
      "outputs": [
        {
          "output_type": "stream",
          "name": "stdout",
          "text": [
            "1\n",
            "(3, 4)\n",
            "5\n"
          ]
        }
      ]
    },
    {
      "cell_type": "code",
      "source": [
        "# Set is an unordered collection of unique elements. Sets are similar to lists and tuples, but unlike lists and tuples, they cannot contain duplicate elements.\n",
        "# Sets are created using curly braces {} or the set() function.\n",
        "my_set = {1, 2, 3, 4, 5} # using curly braces\n",
        "print(my_set)   \n",
        "\n",
        "another_set = set([4, 5, 6, 7, 8]) # using set() function\n",
        "print(another_set)"
      ],
      "metadata": {
        "colab": {
          "base_uri": "https://localhost:8080/"
        },
        "id": "OFCbDEIZI_Hr",
        "outputId": "24d89465-130b-4c36-9612-533ee3b64ddf"
      },
      "execution_count": 19,
      "outputs": [
        {
          "output_type": "stream",
          "name": "stdout",
          "text": [
            "{1, 2, 3, 4, 5}\n",
            "{4, 5, 6, 7, 8}\n"
          ]
        }
      ]
    },
    {
      "cell_type": "code",
      "source": [
        "# Dictionaries: A dictionary is a mutable collection of key-value pairs that are unordered and can be accessed by the key. Dictionaries are created using curly braces {}.\n",
        "my_dict = {'name': 'Aman', 'age': 35, 'city': 'Mumbai'}\n",
        "print(my_dict)"
      ],
      "metadata": {
        "colab": {
          "base_uri": "https://localhost:8080/"
        },
        "id": "7STF-mUgDkh8",
        "outputId": "a41728ab-ea20-4944-e660-f43a07f7945c"
      },
      "execution_count": 16,
      "outputs": [
        {
          "output_type": "stream",
          "name": "stdout",
          "text": [
            "{'name': 'Aman', 'age': 35, 'city': 'Mumbai'}\n"
          ]
        }
      ]
    },
    {
      "cell_type": "code",
      "source": [
        "# Accessing elements of a dictionary\n",
        "print(my_dict['name'])\n",
        "print(my_dict['age'])"
      ],
      "metadata": {
        "colab": {
          "base_uri": "https://localhost:8080/"
        },
        "id": "Z8KBKkNWDxFu",
        "outputId": "eb19afaf-adbe-43ef-c8db-a3772fa8acd6"
      },
      "execution_count": 18,
      "outputs": [
        {
          "output_type": "stream",
          "name": "stdout",
          "text": [
            "Aman\n",
            "35\n"
          ]
        }
      ]
    }
  ]
}